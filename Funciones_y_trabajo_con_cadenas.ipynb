{
  "nbformat": 4,
  "nbformat_minor": 0,
  "metadata": {
    "colab": {
      "provenance": [],
      "include_colab_link": true
    },
    "kernelspec": {
      "name": "python3",
      "display_name": "Python 3"
    },
    "language_info": {
      "name": "python"
    }
  },
  "cells": [
    {
      "cell_type": "markdown",
      "metadata": {
        "id": "view-in-github",
        "colab_type": "text"
      },
      "source": [
        "<a href=\"https://colab.research.google.com/github/ultimatexlerion/ClaseSemana02-03/blob/main/Funciones_y_trabajo_con_cadenas.ipynb\" target=\"_parent\"><img src=\"https://colab.research.google.com/assets/colab-badge.svg\" alt=\"Open In Colab\"/></a>"
      ]
    },
    {
      "cell_type": "markdown",
      "source": [
        "##**Funciones de control**"
      ],
      "metadata": {
        "id": "LqIAjiSrUYPj"
      }
    },
    {
      "cell_type": "markdown",
      "source": [
        "Funciones de Control\n",
        "\n",
        "Bucles if, ifelse, if anidados\n",
        "\n",
        "For, while.\n",
        "\n",
        "\n",
        "En ocasiones los programas fallan y lanzan excepciones, y nesitamos que continue el programa, y capture el error que esta lanzando, esto lo hacemos con el bloque try-except\n",
        "Por ejemplo:\n",
        "\n",
        "\n"
      ],
      "metadata": {
        "id": "JNDCzh0YZ72k"
      }
    },
    {
      "cell_type": "markdown",
      "source": [
        "#**Errores**\n",
        "\n",
        "Error de sintaxis -----SyntaxError: invalid syntax\n",
        "\n",
        "\n",
        "\n",
        "\n"
      ],
      "metadata": {
        "id": "bnyYNfRCgGhj"
      }
    },
    {
      "cell_type": "code",
      "source": [
        "Variable=\"uno\"\n",
        "if Variable is str(Variable):\n",
        "    print(Variable)"
      ],
      "metadata": {
        "id": "CJivtd3llyHC",
        "colab": {
          "base_uri": "https://localhost:8080/"
        },
        "outputId": "c1bad38b-2c0e-4327-e107-4f5a17c735af"
      },
      "execution_count": 1,
      "outputs": [
        {
          "output_type": "stream",
          "name": "stdout",
          "text": [
            "uno\n"
          ]
        }
      ]
    },
    {
      "cell_type": "markdown",
      "source": [
        "Error de una incorrecta tabulación------- IndentationError: expected an indented block"
      ],
      "metadata": {
        "id": "ZMOxuCRVnRiU"
      }
    },
    {
      "cell_type": "code",
      "source": [
        "Variable=\"uno\"\n",
        "if Variable is str(Variable):\n",
        "    print(Variable)"
      ],
      "metadata": {
        "colab": {
          "base_uri": "https://localhost:8080/"
        },
        "id": "MIxuYMHznHRU",
        "outputId": "1fa671fd-dac6-44cf-da37-c45a13df7f50"
      },
      "execution_count": 2,
      "outputs": [
        {
          "output_type": "stream",
          "name": "stdout",
          "text": [
            "uno\n"
          ]
        }
      ]
    },
    {
      "cell_type": "markdown",
      "source": [
        "Error de no una correcta identificacion de la varible------NameError: name 'uno' is not defined"
      ],
      "metadata": {
        "id": "6oPHR6j6oU2s"
      }
    },
    {
      "cell_type": "markdown",
      "source": [
        "https://www.clubdetecnologia.net/blog/2017/python-como-se-implementa-una-sentencia-switch-case/"
      ],
      "metadata": {
        "id": "MZSMp8mn9aSl"
      }
    },
    {
      "cell_type": "code",
      "source": [
        "uno=\"23\"\n",
        "Variable=uno\n",
        "if Variable is str(Variable):\n",
        "    print(Variable)"
      ],
      "metadata": {
        "colab": {
          "base_uri": "https://localhost:8080/"
        },
        "id": "lrVWS4SAn02h",
        "outputId": "c0f789bd-7654-49e3-b70e-43e033f2f820"
      },
      "execution_count": null,
      "outputs": [
        {
          "output_type": "stream",
          "name": "stdout",
          "text": [
            "23\n"
          ]
        }
      ]
    },
    {
      "cell_type": "code",
      "source": [
        "Variable=\"uno\"\n",
        "if Variable is str (Variable):\n",
        "    print(Variable)"
      ],
      "metadata": {
        "colab": {
          "base_uri": "https://localhost:8080/"
        },
        "id": "jkZGib6Oozyz",
        "outputId": "89927c94-15c1-4337-85d1-71937b919940"
      },
      "execution_count": null,
      "outputs": [
        {
          "output_type": "stream",
          "name": "stdout",
          "text": [
            "uno\n"
          ]
        }
      ]
    },
    {
      "cell_type": "markdown",
      "source": [
        "Podemos tener una sintaxis correcta, pero esta nos genera un error.\n",
        "\n",
        "1. División por cero\n"
      ],
      "metadata": {
        "id": "mKdE9m_3p1hY"
      }
    },
    {
      "cell_type": "code",
      "source": [
        "ingresos=0\n",
        "precios=30 /ingresos\n",
        "print(precios)"
      ],
      "metadata": {
        "id": "WFUlhl1iqXLC",
        "colab": {
          "base_uri": "https://localhost:8080/",
          "height": 185
        },
        "outputId": "8a045dfe-a66c-47bf-a417-5c72067dfb59"
      },
      "execution_count": null,
      "outputs": [
        {
          "output_type": "error",
          "ename": "ZeroDivisionError",
          "evalue": "division by zero",
          "traceback": [
            "\u001b[0;31m---------------------------------------------------------------------------\u001b[0m",
            "\u001b[0;31mZeroDivisionError\u001b[0m                         Traceback (most recent call last)",
            "\u001b[0;32m<ipython-input-5-f844513c1ba1>\u001b[0m in \u001b[0;36m<cell line: 2>\u001b[0;34m()\u001b[0m\n\u001b[1;32m      1\u001b[0m \u001b[0mingresos\u001b[0m\u001b[0;34m=\u001b[0m\u001b[0;36m0\u001b[0m\u001b[0;34m\u001b[0m\u001b[0;34m\u001b[0m\u001b[0m\n\u001b[0;32m----> 2\u001b[0;31m \u001b[0mprecios\u001b[0m\u001b[0;34m=\u001b[0m\u001b[0;36m30\u001b[0m \u001b[0;34m/\u001b[0m\u001b[0mingresos\u001b[0m\u001b[0;34m\u001b[0m\u001b[0;34m\u001b[0m\u001b[0m\n\u001b[0m\u001b[1;32m      3\u001b[0m \u001b[0mprint\u001b[0m\u001b[0;34m(\u001b[0m\u001b[0mprecios\u001b[0m\u001b[0;34m)\u001b[0m\u001b[0;34m\u001b[0m\u001b[0;34m\u001b[0m\u001b[0m\n",
            "\u001b[0;31mZeroDivisionError\u001b[0m: division by zero"
          ]
        }
      ]
    },
    {
      "cell_type": "markdown",
      "source": [
        "Error por tipo de dato incompatible -------TypeError: can only concatenate str (not \"int\") to str"
      ],
      "metadata": {
        "id": "97ZR_Z9RsMRT"
      }
    },
    {
      "cell_type": "code",
      "source": [
        "Var=float(35.4)\n",
        "Var + 2\n",
        "\n",
        "#Var=float(35.4)"
      ],
      "metadata": {
        "id": "kd2WrGQ8rIpF",
        "colab": {
          "base_uri": "https://localhost:8080/"
        },
        "outputId": "852d54e5-e5f3-4ef1-c881-80166f2ebd33"
      },
      "execution_count": 3,
      "outputs": [
        {
          "output_type": "execute_result",
          "data": {
            "text/plain": [
              "37.4"
            ]
          },
          "metadata": {},
          "execution_count": 3
        }
      ]
    },
    {
      "cell_type": "markdown",
      "source": [
        "##**Comentarios en Python**\n",
        "\n"
      ],
      "metadata": {
        "id": "DSWgxsfmp2iq"
      }
    },
    {
      "cell_type": "code",
      "source": [
        "# nos permite una línea comentada\n",
        "linea=\"Comentarios\"\n",
        "\"\"\" Varias lineas comentadas\n",
        "fdf\n",
        "fdfdf\n",
        "dfdfdf\n",
        "fdfdfd\n",
        "fdfdf\n",
        "\"\"\"\n",
        "print(linea)"
      ],
      "metadata": {
        "id": "2qSpaAWFp5AX"
      },
      "execution_count": null,
      "outputs": []
    },
    {
      "cell_type": "markdown",
      "source": [
        "#**Manejar Excepciones**\n",
        "\n",
        "En ocasiones los programas fallan,lanzan excepciones, y necesitamos que continue el programa, y capture el error que esta lanzando, esto lo hacemos con el bloque try-except Por ejemplo:"
      ],
      "metadata": {
        "id": "5mUTHCHAhprT"
      }
    },
    {
      "cell_type": "code",
      "source": [
        "valor=34.5\n",
        "numero_entero=int(valor)\n",
        "print(\"El valor entero de {} corresponde a :{}\".format(valor,numero_entero))"
      ],
      "metadata": {
        "colab": {
          "base_uri": "https://localhost:8080/"
        },
        "id": "pbCcIHHRXFHY",
        "outputId": "0d27c927-9f86-4f18-8e4b-eb32ca4eeb52"
      },
      "execution_count": null,
      "outputs": [
        {
          "output_type": "stream",
          "name": "stdout",
          "text": [
            "El valor entero de 34.5 corresponde a :34\n"
          ]
        }
      ]
    },
    {
      "cell_type": "code",
      "source": [
        "valor=\"34.5\"\n",
        "valor1=float(valor)\n",
        "\n",
        "try:\n",
        "  numero_entero=int(valor)#valor1 para que funcione sin entrar a la excepcion\n",
        "  print(\"El valor entero de {} corresponde a :{}\".format(valor,numero_entero))\n",
        "\n",
        "except: #si hay un problema corriendo el codigo y realiza lo siguiente\n",
        "       print(\"Error, el valor {} no se puede convertir a un entero, por favor digite un valor valido\".format(valor))\n"
      ],
      "metadata": {
        "colab": {
          "base_uri": "https://localhost:8080/"
        },
        "outputId": "5bf48926-a431-40fe-f50e-031b6c3e49b2",
        "id": "qhsbexTmdF-R"
      },
      "execution_count": 7,
      "outputs": [
        {
          "output_type": "stream",
          "name": "stdout",
          "text": [
            "Error, el valor 34.5 no se puede convertir a un entero, por favor digite un valor valido\n"
          ]
        }
      ]
    },
    {
      "cell_type": "markdown",
      "source": [
        "Pero si queremos poder capturar la excepcion la vamos a capturar en una variable llamamada err el valor que ingresa se capturo en formato de texto, debemos arrojar el error"
      ],
      "metadata": {
        "id": "Gsf9ARM-YRbD"
      }
    },
    {
      "cell_type": "code",
      "source": [
        "valor1=\"34.5\"\n",
        "#valor1=float(valor)\n",
        "\n",
        "try:\n",
        "  numero_entero=int(valor1)\n",
        "  print(\"El valor entero de {} corresponde a :{}\".format(valor,numero_entero))\n",
        "\n",
        "except Exception as err: #si hay un problema corriendo el codigo y realiza lo siguiente\n",
        "       print(\"Error, el valor {} no se puede convertir a un entero, por favor digite un valor valido\".format(valor))\n",
        "       print(\"El mensaje de error es: {} :{}\".format(type(err),err))\n"
      ],
      "metadata": {
        "colab": {
          "base_uri": "https://localhost:8080/"
        },
        "id": "mDw2kImOVK7U",
        "outputId": "d069fa19-ec67-4402-8968-398657cc268e"
      },
      "execution_count": null,
      "outputs": [
        {
          "output_type": "stream",
          "name": "stdout",
          "text": [
            "Error, el valor 34.5 no se puede convertir a un entero, por favor digite un valor valido\n",
            "El mensaje de error es: <class 'ValueError'> :invalid literal for int() with base 10: '34.5'\n"
          ]
        }
      ]
    },
    {
      "cell_type": "markdown",
      "source": [
        "**Anexo documentación de Python para el tratamiento de errores**"
      ],
      "metadata": {
        "id": "6Huoll13bKBJ"
      }
    },
    {
      "cell_type": "markdown",
      "source": [
        "\n",
        "\n",
        "https://docs.python.org/es/3/tutorial/errors.html"
      ],
      "metadata": {
        "id": "4ShKjpkjt4Wr"
      }
    },
    {
      "cell_type": "markdown",
      "source": [
        "##**Estructuras de datos**\n",
        "\n",
        "Se utilizan para alamacenar información\n",
        "\n",
        "**Lista- Tuplas- Diccionarios**\n",
        "\n"
      ],
      "metadata": {
        "id": "NjxD-ank1U7E"
      }
    },
    {
      "cell_type": "code",
      "source": [
        "#Listas encerrada en cuadrante, se dividen por ',' . puede tener numeros y texto\n",
        "\n",
        "lista=['rio','arroyo','caño',2]\n",
        "type(lista)"
      ],
      "metadata": {
        "colab": {
          "base_uri": "https://localhost:8080/"
        },
        "id": "VZ_Eg7KCuCug",
        "outputId": "f9d27e38-4460-4783-90a7-e7627861d9be"
      },
      "execution_count": null,
      "outputs": [
        {
          "output_type": "execute_result",
          "data": {
            "text/plain": [
              "list"
            ]
          },
          "metadata": {},
          "execution_count": 6
        }
      ]
    },
    {
      "cell_type": "code",
      "source": [
        "#La dupla esta encerrada por parentesis\n",
        "tupla=('rio','arroyo','caño',1)\n",
        "type(tupla)"
      ],
      "metadata": {
        "colab": {
          "base_uri": "https://localhost:8080/"
        },
        "id": "q_67VsZDuPY8",
        "outputId": "3c4b20ac-9be0-4849-ecaa-fdccf5593630"
      },
      "execution_count": null,
      "outputs": [
        {
          "output_type": "execute_result",
          "data": {
            "text/plain": [
              "tuple"
            ]
          },
          "metadata": {},
          "execution_count": 16
        }
      ]
    },
    {
      "cell_type": "code",
      "source": [
        "#Palabra y significado de la palabra, con indice lo identifica con su valor\n",
        "diccionario={\n",
        "                \"A\": 1,\n",
        "                \"B\":4,\n",
        "                \"C\":2,\n",
        "                \"D\":2\n",
        "}\n",
        "type(diccionario)"
      ],
      "metadata": {
        "colab": {
          "base_uri": "https://localhost:8080/"
        },
        "id": "JSjYNxL908cJ",
        "outputId": "0ca4fcef-2b8e-4a0d-f217-c5777fc13ac5"
      },
      "execution_count": 8,
      "outputs": [
        {
          "output_type": "execute_result",
          "data": {
            "text/plain": [
              "dict"
            ]
          },
          "metadata": {},
          "execution_count": 8
        }
      ]
    },
    {
      "cell_type": "markdown",
      "source": [
        "#**Listas:**\n",
        "Son **conjuntos** de elementos ordenados donde cada elemento tiene una posición.\n",
        "\n",
        "ejemplo:\n",
        "Alumnos=[\"Daniel\",\"Cindy\",\"Juan\",\"Guillermo\",\"Alexander\"]"
      ],
      "metadata": {
        "id": "jv7UluxvuBPt"
      }
    },
    {
      "cell_type": "code",
      "source": [
        "#Elementos ordeanados en listas.\n",
        "Alumnos=[\"Daniel\",\"Cindy\",\"Juan\",\"Guillermo\",\"Alexander\",\"Angelica\",\"Yulieth\"] #los elementos son strings, pero podríamos adicionar un número en la lista y no ocurriria nada\n",
        "print(Alumnos)\n",
        "print(type(Alumnos))"
      ],
      "metadata": {
        "colab": {
          "base_uri": "https://localhost:8080/"
        },
        "id": "yhdLUV684McY",
        "outputId": "1cb3e84f-9841-4b9c-93b1-4616450e0bc4"
      },
      "execution_count": 9,
      "outputs": [
        {
          "output_type": "stream",
          "name": "stdout",
          "text": [
            "['Daniel', 'Cindy', 'Juan', 'Guillermo', 'Alexander', 'Angelica', 'Yulieth']\n",
            "<class 'list'>\n"
          ]
        }
      ]
    },
    {
      "cell_type": "markdown",
      "source": [
        "Para tener en cuenta\n",
        "* Accedemos a una lista con [] corchetes\n",
        "* Todas las listas comienzan con 0\n",
        "* Se accede en el primer elementos [0]"
      ],
      "metadata": {
        "id": "5z59nPdx5Fry"
      }
    },
    {
      "cell_type": "code",
      "source": [
        "print(Alumnos[0]) #se llama entre cuadrantes"
      ],
      "metadata": {
        "id": "bge5v3jN5uZY",
        "colab": {
          "base_uri": "https://localhost:8080/"
        },
        "outputId": "eee60ecc-50c6-499d-ca3d-152ee94c2a23"
      },
      "execution_count": 10,
      "outputs": [
        {
          "output_type": "stream",
          "name": "stdout",
          "text": [
            "Daniel\n"
          ]
        }
      ]
    },
    {
      "cell_type": "code",
      "source": [
        "\n",
        "#Convertir texto en listas\n",
        "texto=(\"para-que-los-pies-si-tengo-alas-para-volar\")\n",
        "separa=texto.split('-')\n",
        "separa=texto.replace('-','****** ')\n",
        "print(texto)\n",
        "print(separa)\n"
      ],
      "metadata": {
        "id": "565aSVNDAHjq",
        "colab": {
          "base_uri": "https://localhost:8080/"
        },
        "outputId": "1b9cb867-6e41-4156-cb0c-89aa5e910fea"
      },
      "execution_count": 49,
      "outputs": [
        {
          "output_type": "stream",
          "name": "stdout",
          "text": [
            "para-que-los-pies-si-tengo-alas-para-volar\n",
            "para****** que****** los****** pies****** si****** tengo****** alas****** para****** volar\n"
          ]
        }
      ]
    },
    {
      "cell_type": "code",
      "source": [],
      "metadata": {
        "id": "ZsebcdxKp-v_"
      },
      "execution_count": null,
      "outputs": []
    },
    {
      "cell_type": "code",
      "source": [
        "type(texto)"
      ],
      "metadata": {
        "colab": {
          "base_uri": "https://localhost:8080/"
        },
        "id": "JWRDOP2un53K",
        "outputId": "f78dfabf-0636-40ea-f938-d9228343db0a"
      },
      "execution_count": 13,
      "outputs": [
        {
          "output_type": "execute_result",
          "data": {
            "text/plain": [
              "str"
            ]
          },
          "metadata": {},
          "execution_count": 13
        }
      ]
    },
    {
      "cell_type": "code",
      "source": [
        "type(separa)"
      ],
      "metadata": {
        "id": "70Vbn27WAxGq",
        "colab": {
          "base_uri": "https://localhost:8080/"
        },
        "outputId": "df785e5b-679b-48ef-c2fd-cb1bf7be7eb1"
      },
      "execution_count": 14,
      "outputs": [
        {
          "output_type": "execute_result",
          "data": {
            "text/plain": [
              "list"
            ]
          },
          "metadata": {},
          "execution_count": 14
        }
      ]
    },
    {
      "cell_type": "code",
      "source": [
        "print(Alumnos)"
      ],
      "metadata": {
        "id": "nFjJG7tcXalM",
        "colab": {
          "base_uri": "https://localhost:8080/"
        },
        "outputId": "68b36980-6c51-4021-f874-db5e86a093e6"
      },
      "execution_count": 15,
      "outputs": [
        {
          "output_type": "stream",
          "name": "stdout",
          "text": [
            "['Daniel', 'Cindy', 'Juan', 'Guillermo', 'Alexander', 'Angelica', 'Yulieth']\n"
          ]
        }
      ]
    },
    {
      "cell_type": "markdown",
      "source": [
        "Podemos acceder a un rango de elementos [inicio:final-1:orden]"
      ],
      "metadata": {
        "id": "pp0MepiC6EM8"
      }
    },
    {
      "cell_type": "code",
      "source": [
        "#Accedemos del primero hasta el 4\n",
        "print(Alumnos[:5])\n",
        "type(Alumnos)"
      ],
      "metadata": {
        "id": "Ts7KwyqS6Kih",
        "colab": {
          "base_uri": "https://localhost:8080/"
        },
        "outputId": "95af0e19-d8cf-4df0-80de-c040fbe9e99d"
      },
      "execution_count": 56,
      "outputs": [
        {
          "output_type": "stream",
          "name": "stdout",
          "text": [
            "['Daniel', 'Cindy', 'Juan', 'Guillermo', 'Alexander']\n"
          ]
        },
        {
          "output_type": "execute_result",
          "data": {
            "text/plain": [
              "list"
            ]
          },
          "metadata": {},
          "execution_count": 56
        }
      ]
    },
    {
      "cell_type": "code",
      "source": [
        "Alumnos"
      ],
      "metadata": {
        "id": "llnTu0_lr7U4"
      },
      "execution_count": null,
      "outputs": []
    },
    {
      "cell_type": "code",
      "source": [
        "print(Alumnos[:2:-1])"
      ],
      "metadata": {
        "id": "oSDB8vJ6rwuS",
        "colab": {
          "base_uri": "https://localhost:8080/"
        },
        "outputId": "d0ac7fd0-21b9-4f68-b93d-be7f100e43e3"
      },
      "execution_count": 20,
      "outputs": [
        {
          "output_type": "stream",
          "name": "stdout",
          "text": [
            "['Yulieth', 'Angelica', 'Alexander', 'Guillermo']\n"
          ]
        }
      ]
    },
    {
      "cell_type": "code",
      "source": [
        "#Accedemos después del tercer elemento hasta el final\n",
        "Alumnos\n",
        "print(Alumnos[3:])"
      ],
      "metadata": {
        "id": "hobv0YXK-C5j",
        "colab": {
          "base_uri": "https://localhost:8080/"
        },
        "outputId": "2bdd6078-3f6a-44dd-bcb8-b5054c20763b"
      },
      "execution_count": 50,
      "outputs": [
        {
          "output_type": "stream",
          "name": "stdout",
          "text": [
            "['Guillermo', 'Alexander', 'Angelica', 'Yulieth']\n"
          ]
        }
      ]
    },
    {
      "cell_type": "code",
      "source": [
        "#Accedemos a las últimas posiciones\n",
        "print(Alumnos[-3:])"
      ],
      "metadata": {
        "id": "cKQG1xCOscqN",
        "colab": {
          "base_uri": "https://localhost:8080/"
        },
        "outputId": "586e8e63-2fac-4603-99a8-e57fc319ca15"
      },
      "execution_count": 51,
      "outputs": [
        {
          "output_type": "stream",
          "name": "stdout",
          "text": [
            "['Alexander', 'Angelica', 'Yulieth']\n"
          ]
        }
      ]
    },
    {
      "cell_type": "code",
      "source": [
        "#Para saltarsen elementos [::n] n a n\n",
        "#en el siguiente ejemplo salta de 3 en 3\n",
        "print(Alumnos[::2])"
      ],
      "metadata": {
        "id": "ornhiGM7tjRK",
        "colab": {
          "base_uri": "https://localhost:8080/"
        },
        "outputId": "34af5d95-c898-4230-fb09-0ed34399fe42"
      },
      "execution_count": 52,
      "outputs": [
        {
          "output_type": "stream",
          "name": "stdout",
          "text": [
            "['Daniel', 'Juan', 'Alexander', 'Yulieth']\n"
          ]
        }
      ]
    },
    {
      "cell_type": "code",
      "source": [
        "Alumnos\n",
        "type(Alumnos)\n",
        "print(Alumnos)"
      ],
      "metadata": {
        "id": "n3sGIRzTYSa1",
        "colab": {
          "base_uri": "https://localhost:8080/"
        },
        "outputId": "23b85a0b-114e-48e2-cebe-76101eb63a31"
      },
      "execution_count": 61,
      "outputs": [
        {
          "output_type": "stream",
          "name": "stdout",
          "text": [
            "['Daniel', 'Cindy', 'Juan', 'Guillermo', 'Alexander', 'Angelica', 'Yulieth']\n"
          ]
        }
      ]
    },
    {
      "cell_type": "code",
      "source": [
        "print(Alumnos[1::2])#primero sale 1 y despues 2"
      ],
      "metadata": {
        "id": "Uusw42NGu0T7",
        "colab": {
          "base_uri": "https://localhost:8080/"
        },
        "outputId": "1e0022b6-1658-49d9-e77a-57731c198c0a"
      },
      "execution_count": 57,
      "outputs": [
        {
          "output_type": "stream",
          "name": "stdout",
          "text": [
            "['Cindy', 'Guillermo', 'Angelica']\n"
          ]
        }
      ]
    },
    {
      "cell_type": "code",
      "source": [
        "print(Alumnos[1::-1]) #salte uno y después devuelvase"
      ],
      "metadata": {
        "id": "L__ABHm-vEh1",
        "colab": {
          "base_uri": "https://localhost:8080/"
        },
        "outputId": "d8d05f78-9c9d-47ca-e17b-6261cd94b4b6"
      },
      "execution_count": 62,
      "outputs": [
        {
          "output_type": "stream",
          "name": "stdout",
          "text": [
            "['Cindy', 'Daniel']\n"
          ]
        }
      ]
    },
    {
      "cell_type": "code",
      "source": [
        "print(Alumnos[::-1]) #simplemente que me lea la lista al contrarío"
      ],
      "metadata": {
        "id": "-zJYR-TrunNR",
        "colab": {
          "base_uri": "https://localhost:8080/"
        },
        "outputId": "6fd9833f-b52b-4531-975c-3ae7c0083b33"
      },
      "execution_count": 55,
      "outputs": [
        {
          "output_type": "stream",
          "name": "stdout",
          "text": [
            "['Yulieth', 'Angelica', 'Alexander', 'Guillermo', 'Juan', 'Cindy', 'Daniel']\n"
          ]
        }
      ]
    },
    {
      "cell_type": "code",
      "source": [
        "print(len(Alumnos))#longitud de la lista Alumnos"
      ],
      "metadata": {
        "id": "0RKsr6Eevo_f",
        "colab": {
          "base_uri": "https://localhost:8080/"
        },
        "outputId": "6cabc6f4-1030-4e35-da8d-f2b6a599697b"
      },
      "execution_count": 63,
      "outputs": [
        {
          "output_type": "stream",
          "name": "stdout",
          "text": [
            "7\n"
          ]
        }
      ]
    },
    {
      "cell_type": "code",
      "source": [
        "Alumnos.append(\"Fabian\")#adicionamos un elemento más a la lista añadieandolos al final\n",
        "print(Alumnos)"
      ],
      "metadata": {
        "id": "YKu5vFrFv8Ce",
        "colab": {
          "base_uri": "https://localhost:8080/"
        },
        "outputId": "e6132a13-28c5-4fc1-931c-44c38978cce4"
      },
      "execution_count": 152,
      "outputs": [
        {
          "output_type": "stream",
          "name": "stdout",
          "text": [
            "['Camila', 'Antonio', 'Camila', 'Cindy', 'Mike', 'Rafael', 'Fabian']\n"
          ]
        }
      ]
    },
    {
      "cell_type": "code",
      "source": [
        "ListaX2=Alumnos*2\n",
        "print(ListaX2)"
      ],
      "metadata": {
        "id": "ZPlADA5rwXn9",
        "colab": {
          "base_uri": "https://localhost:8080/"
        },
        "outputId": "766b018b-4b74-4dd7-ec9d-8baf2a01ebaf"
      },
      "execution_count": 153,
      "outputs": [
        {
          "output_type": "stream",
          "name": "stdout",
          "text": [
            "['Camila', 'Antonio', 'Camila', 'Cindy', 'Mike', 'Rafael', 'Fabian', 'Camila', 'Antonio', 'Camila', 'Cindy', 'Mike', 'Rafael', 'Fabian']\n"
          ]
        }
      ]
    },
    {
      "cell_type": "code",
      "source": [
        "nombre = \"Mike\"\n",
        "nombre2veces=nombre*2\n",
        "print(nombre2veces)"
      ],
      "metadata": {
        "colab": {
          "base_uri": "https://localhost:8080/"
        },
        "id": "Dl3xwOzrsxmI",
        "outputId": "fe8e60bd-643d-47f3-efe3-24f21df402ef"
      },
      "execution_count": 154,
      "outputs": [
        {
          "output_type": "stream",
          "name": "stdout",
          "text": [
            "MikeMike\n"
          ]
        }
      ]
    },
    {
      "cell_type": "code",
      "source": [
        "#Crear una lista nueva concatenandolas añadiendolas al principio\n",
        "\n",
        "nuevos=['Mike','Jose', \"Fabian\"]\n",
        "nuevalista=nuevos+Alumnos\n",
        "print(nuevalista)\n"
      ],
      "metadata": {
        "id": "jEu5P-wFwsll",
        "colab": {
          "base_uri": "https://localhost:8080/"
        },
        "outputId": "aa670084-240b-4ef3-f868-d68b6d545e47"
      },
      "execution_count": 155,
      "outputs": [
        {
          "output_type": "stream",
          "name": "stdout",
          "text": [
            "['Mike', 'Jose', 'Fabian', 'Camila', 'Antonio', 'Camila', 'Cindy', 'Mike', 'Rafael', 'Fabian']\n"
          ]
        }
      ]
    },
    {
      "cell_type": "code",
      "source": [
        "# Modificar elementos de una lista\n",
        "Alumnos[0]=\"Camila\"\n",
        "print(Alumnos)"
      ],
      "metadata": {
        "id": "F0vpD9H0xxFj",
        "colab": {
          "base_uri": "https://localhost:8080/"
        },
        "outputId": "38d385c8-1566-4227-b433-b0c7f03bb362"
      },
      "execution_count": 156,
      "outputs": [
        {
          "output_type": "stream",
          "name": "stdout",
          "text": [
            "['Camila', 'Antonio', 'Camila', 'Cindy', 'Mike', 'Rafael', 'Fabian']\n"
          ]
        }
      ]
    },
    {
      "cell_type": "code",
      "source": [
        "#Podemos cambiar el contenido de la lista desde una posicion inicial y reemplazarlos.. y adicionar sin importar de que tamaño fue creada la losta\n",
        "Alumnos"
      ],
      "metadata": {
        "id": "gy0Wq-u_yKyn",
        "colab": {
          "base_uri": "https://localhost:8080/"
        },
        "outputId": "67fc41a8-9448-4348-c8a5-1e09d463a65b"
      },
      "execution_count": 157,
      "outputs": [
        {
          "output_type": "execute_result",
          "data": {
            "text/plain": [
              "['Camila', 'Antonio', 'Camila', 'Cindy', 'Mike', 'Rafael', 'Fabian']"
            ]
          },
          "metadata": {},
          "execution_count": 157
        }
      ]
    },
    {
      "cell_type": "code",
      "source": [
        "Alumnos[4:]=[\"Mike\",\"Rafael\",\"Antonio\",\"Alejandra\",\"Arturo\", \"Fabian\"]\n",
        "print(Alumnos)"
      ],
      "metadata": {
        "id": "ukuopQO6ybHo",
        "colab": {
          "base_uri": "https://localhost:8080/"
        },
        "outputId": "ea31390d-3b11-492d-96c4-7fa1471b6f00"
      },
      "execution_count": 162,
      "outputs": [
        {
          "output_type": "stream",
          "name": "stdout",
          "text": [
            "['Camila', 'Antonio', 'Camila', 'Cindy', 'Mike', 'Rafael', 'Antonio', 'Alejandra', 'Arturo', 'Fabian']\n"
          ]
        }
      ]
    },
    {
      "cell_type": "code",
      "source": [
        "# Queremos saber que un alumno hace parte de la lista, podemos utilizar el parametro \"in\"\n",
        "evaluar=\"Fabian\" in Alumnos\n",
        "print(evaluar)"
      ],
      "metadata": {
        "id": "x00C-RyxzDZ4",
        "colab": {
          "base_uri": "https://localhost:8080/"
        },
        "outputId": "4da56f52-c6d3-4076-bf40-a9de397dcdd5"
      },
      "execution_count": 163,
      "outputs": [
        {
          "output_type": "stream",
          "name": "stdout",
          "text": [
            "True\n"
          ]
        }
      ]
    },
    {
      "cell_type": "code",
      "source": [
        "#Necesito conocer la posición de Guillermo en la lista\n",
        "print(Alumnos)\n",
        "posicion1=(Alumnos.index(\"Rafael\") )\n",
        "print(posicion1)\n",
        "posicion = f\"La posicion es: {posicion1}\"\n",
        "print(posicion)"
      ],
      "metadata": {
        "id": "VSAqNiNY0S0T",
        "colab": {
          "base_uri": "https://localhost:8080/"
        },
        "outputId": "854985b9-b1a4-487e-d1b0-a624a3672825"
      },
      "execution_count": 164,
      "outputs": [
        {
          "output_type": "stream",
          "name": "stdout",
          "text": [
            "['Camila', 'Antonio', 'Camila', 'Cindy', 'Mike', 'Rafael', 'Antonio', 'Alejandra', 'Arturo', 'Fabian']\n",
            "5\n",
            "La posicion es: 5\n"
          ]
        }
      ]
    },
    {
      "cell_type": "code",
      "source": [
        "Alumnos"
      ],
      "metadata": {
        "colab": {
          "base_uri": "https://localhost:8080/"
        },
        "id": "hWrFfF8u0V4H",
        "outputId": "639b29cc-a1bf-46c9-ec57-27ed90a82011"
      },
      "execution_count": 165,
      "outputs": [
        {
          "output_type": "execute_result",
          "data": {
            "text/plain": [
              "['Camila',\n",
              " 'Antonio',\n",
              " 'Camila',\n",
              " 'Cindy',\n",
              " 'Mike',\n",
              " 'Rafael',\n",
              " 'Antonio',\n",
              " 'Alejandra',\n",
              " 'Arturo',\n",
              " 'Fabian']"
            ]
          },
          "metadata": {},
          "execution_count": 165
        }
      ]
    },
    {
      "cell_type": "code",
      "source": [
        "# generar lista de nombre que se repita Fabian 5 veces,\n",
        "# Luego utilizar el parametro pop e index para eliminarlos a todos.\n",
        "nuevos=['Fabian']\n",
        "listanuevos=nuevos+Alumnos\n",
        "print(listanuevos)\n",
        "nombre = \"Fabian \"\n",
        "nombre2veces=nombre*5\n",
        "separa=nombre.replace('-',' ')\n",
        "print(separa *5)\n",
        "\n",
        "\n"
      ],
      "metadata": {
        "colab": {
          "base_uri": "https://localhost:8080/"
        },
        "id": "vZlwb9v_w_Rw",
        "outputId": "fb86defa-2e5e-42c6-fab0-e60dd8cb31ba"
      },
      "execution_count": 166,
      "outputs": [
        {
          "output_type": "stream",
          "name": "stdout",
          "text": [
            "['Fabian', 'Camila', 'Antonio', 'Camila', 'Cindy', 'Mike', 'Rafael', 'Antonio', 'Alejandra', 'Arturo', 'Fabian']\n",
            "Fabian Fabian Fabian Fabian Fabian \n"
          ]
        }
      ]
    },
    {
      "cell_type": "code",
      "source": [],
      "metadata": {
        "id": "z4CSijF0zLOz"
      },
      "execution_count": 146,
      "outputs": []
    },
    {
      "cell_type": "code",
      "source": [
        "#Eliminar un elemento, teniendo la posición del elemento\n",
        "Alumnos.pop(3)\n",
        "print(Alumnos)"
      ],
      "metadata": {
        "id": "Tal99G4P2YFi",
        "colab": {
          "base_uri": "https://localhost:8080/"
        },
        "outputId": "55d614ad-33d1-42bf-90e2-8c9e27de18fc"
      },
      "execution_count": 96,
      "outputs": [
        {
          "output_type": "stream",
          "name": "stdout",
          "text": [
            "['Camila', 'Cindy', 'Juan', 'Mike', 'Rafael', 'Antonio', 'Alejandra', 'Arturo']\n"
          ]
        }
      ]
    },
    {
      "cell_type": "code",
      "source": [
        "#si queremos eliminar un elemento sin saber e que posicion esta\n",
        "Alumnos.pop(Alumnos.index(\"Arturo\"))\n",
        "print(Alumnos)"
      ],
      "metadata": {
        "id": "RnX87_y63gVk",
        "colab": {
          "base_uri": "https://localhost:8080/"
        },
        "outputId": "e3c7df41-f642-48ff-cada-33839dba2a71"
      },
      "execution_count": 99,
      "outputs": [
        {
          "output_type": "stream",
          "name": "stdout",
          "text": [
            "['Camila', 'Cindy', 'Mike', 'Rafael', 'Antonio', 'Alejandra']\n"
          ]
        }
      ]
    },
    {
      "cell_type": "code",
      "source": [
        "#las listas se pueden ordenar listas de texto\n",
        "Alumnos.sort()\n",
        "print(Alumnos)"
      ],
      "metadata": {
        "id": "WSyH9Pga4LRt",
        "colab": {
          "base_uri": "https://localhost:8080/"
        },
        "outputId": "6184fec6-d77b-4a6e-d0ca-8d3e4e0eaf4b"
      },
      "execution_count": 102,
      "outputs": [
        {
          "output_type": "stream",
          "name": "stdout",
          "text": [
            "['Alejandra', 'Antonio', 'Camila', 'Cindy', 'Mike', 'Rafael']\n"
          ]
        }
      ]
    },
    {
      "cell_type": "code",
      "source": [
        "#Podemos ordenar listas de numeros\n",
        "\n",
        "numeros=[12,2,1,4,56,76]\n",
        "numeros.sort(reverse=True)\n",
        "print(numeros)"
      ],
      "metadata": {
        "id": "sUXi18zU4hJ6",
        "colab": {
          "base_uri": "https://localhost:8080/"
        },
        "outputId": "63ab4df5-ad03-4a79-87f4-4491f805ca42"
      },
      "execution_count": 103,
      "outputs": [
        {
          "output_type": "stream",
          "name": "stdout",
          "text": [
            "[76, 56, 12, 4, 2, 1]\n"
          ]
        }
      ]
    },
    {
      "cell_type": "code",
      "source": [
        "#generar lista de números\n",
        "aleatorios=(list(range(20)))\n",
        "print(aleatorios)"
      ],
      "metadata": {
        "id": "MeWuHXeDVOAd",
        "colab": {
          "base_uri": "https://localhost:8080/"
        },
        "outputId": "b5bd07cf-8d3f-455b-a566-5a216a9382b8"
      },
      "execution_count": 104,
      "outputs": [
        {
          "output_type": "stream",
          "name": "stdout",
          "text": [
            "[0, 1, 2, 3, 4, 5, 6, 7, 8, 9, 10, 11, 12, 13, 14, 15, 16, 17, 18, 19]\n"
          ]
        }
      ]
    },
    {
      "cell_type": "code",
      "source": [
        "#podemos acceder a los string , como listas\n",
        "print(\"Ingrese la serie a convertir:\")\n",
        "serie=input()\n",
        "serie2=serie[::-1]\n",
        "resultado=0\n",
        "n=0\n",
        "longitud=len(serie2)\n",
        "for n in range(longitud):\n",
        "   base=int((serie2[n]))\n",
        "   if base > 0:\n",
        "      binario=(2**(n))\n",
        "      resultado=resultado+binario\n",
        "print(resultado)\n",
        "type (resultado)"
      ],
      "metadata": {
        "id": "fv9HdZb2Vulv",
        "colab": {
          "base_uri": "https://localhost:8080/"
        },
        "outputId": "819ac2ff-b29d-4c9f-912f-5a9132d1c634"
      },
      "execution_count": 167,
      "outputs": [
        {
          "output_type": "stream",
          "name": "stdout",
          "text": [
            "Ingrese la serie a convertir:\n",
            "588\n",
            "7\n"
          ]
        },
        {
          "output_type": "execute_result",
          "data": {
            "text/plain": [
              "int"
            ]
          },
          "metadata": {},
          "execution_count": 167
        }
      ]
    },
    {
      "cell_type": "code",
      "source": [
        "binario=\"10111110001\" #Para imprimir al revez\n",
        "bianrioinverso=binario[::-1]\n",
        "print(bianrioinverso)"
      ],
      "metadata": {
        "id": "NU4ewhO4c2C3",
        "colab": {
          "base_uri": "https://localhost:8080/"
        },
        "outputId": "0d2f51ed-1f0f-4dd5-db1e-d2e76609e0cb"
      },
      "execution_count": 170,
      "outputs": [
        {
          "output_type": "stream",
          "name": "stdout",
          "text": [
            "10001111101\n"
          ]
        }
      ]
    },
    {
      "cell_type": "markdown",
      "source": [
        "##**Tuplas**\n",
        "Son versiones de las listas que no se pueden modificar"
      ],
      "metadata": {
        "id": "O7WXFXgFtShL"
      }
    },
    {
      "cell_type": "code",
      "source": [
        "ciudades=(\"Bogotá\",\"Ibague\",\"Sogamoso\",\"Yopal\") # las tuplas comienzan en 1 no como las listas que comienzan desde 0\n",
        "type(ciudades)"
      ],
      "metadata": {
        "id": "BY_Kf1q7tQ4C",
        "colab": {
          "base_uri": "https://localhost:8080/"
        },
        "outputId": "3d65dd08-c7ea-44f7-b3ca-77a7fff5144a"
      },
      "execution_count": 171,
      "outputs": [
        {
          "output_type": "execute_result",
          "data": {
            "text/plain": [
              "tuple"
            ]
          },
          "metadata": {},
          "execution_count": 171
        }
      ]
    },
    {
      "cell_type": "code",
      "source": [
        "type(ciudades)"
      ],
      "metadata": {
        "id": "JVt62gSpnmr2",
        "colab": {
          "base_uri": "https://localhost:8080/"
        },
        "outputId": "b6dc4c52-cc22-4d7d-dda2-36218e5f8b61"
      },
      "execution_count": 172,
      "outputs": [
        {
          "output_type": "execute_result",
          "data": {
            "text/plain": [
              "tuple"
            ]
          },
          "metadata": {},
          "execution_count": 172
        }
      ]
    },
    {
      "cell_type": "code",
      "source": [
        "print(ciudades)"
      ],
      "metadata": {
        "id": "jK1JMSfSucQO",
        "colab": {
          "base_uri": "https://localhost:8080/"
        },
        "outputId": "08792260-44a8-40c3-d8e1-d4423621f40b"
      },
      "execution_count": 173,
      "outputs": [
        {
          "output_type": "stream",
          "name": "stdout",
          "text": [
            "('Bogotá', 'Ibague', 'Sogamoso', 'Yopal')\n"
          ]
        }
      ]
    },
    {
      "cell_type": "code",
      "source": [
        "acceder=ciudades[:2] #accede desde el item 2\n",
        "print(acceder)"
      ],
      "metadata": {
        "id": "xysv6Mp6ukLY",
        "colab": {
          "base_uri": "https://localhost:8080/"
        },
        "outputId": "668f4950-bcb2-48a2-c585-eca445359014"
      },
      "execution_count": 174,
      "outputs": [
        {
          "output_type": "stream",
          "name": "stdout",
          "text": [
            "('Bogotá', 'Ibague')\n"
          ]
        }
      ]
    },
    {
      "cell_type": "code",
      "source": [
        "acceder=ciudades[0] #se imprie el item 2\n",
        "print(acceder)"
      ],
      "metadata": {
        "id": "G9VicSN2u3mn",
        "colab": {
          "base_uri": "https://localhost:8080/"
        },
        "outputId": "85bb2856-d62f-480a-c8b7-81ed4151fb8c"
      },
      "execution_count": 176,
      "outputs": [
        {
          "output_type": "stream",
          "name": "stdout",
          "text": [
            "Bogotá\n"
          ]
        }
      ]
    },
    {
      "cell_type": "code",
      "source": [
        "#Podemos buscar un valor en la tupla\n",
        "\"Yopal\" in ciudades"
      ],
      "metadata": {
        "id": "QjejOOlYvUFS",
        "colab": {
          "base_uri": "https://localhost:8080/"
        },
        "outputId": "a7666c2e-d8c4-4d50-bdc2-1f7dfbd4965e"
      },
      "execution_count": 177,
      "outputs": [
        {
          "output_type": "execute_result",
          "data": {
            "text/plain": [
              "True"
            ]
          },
          "metadata": {},
          "execution_count": 177
        }
      ]
    },
    {
      "cell_type": "code",
      "source": [
        "#Podemos contar cuantas veces se presenta un valor\n",
        "calculos=(1,34,54,34,1,28,34,1)\n",
        "calculos.count(1)"
      ],
      "metadata": {
        "id": "D49kv8A4vpLF",
        "colab": {
          "base_uri": "https://localhost:8080/"
        },
        "outputId": "09586216-a86b-4943-d178-a55953d90324"
      },
      "execution_count": 178,
      "outputs": [
        {
          "output_type": "execute_result",
          "data": {
            "text/plain": [
              "3"
            ]
          },
          "metadata": {},
          "execution_count": 178
        }
      ]
    },
    {
      "cell_type": "code",
      "source": [
        "#las tuplas son inmutable no se modifican en cambio las listas si.\n",
        "#calculos[0]= 5\n",
        "calculos[0] * 5\n",
        "print(calculos)\n",
        "\n"
      ],
      "metadata": {
        "colab": {
          "base_uri": "https://localhost:8080/"
        },
        "id": "2Uu516a4wAZq",
        "outputId": "d51d507e-94f4-4ac2-b655-93ff4a6011c3"
      },
      "execution_count": 180,
      "outputs": [
        {
          "output_type": "stream",
          "name": "stdout",
          "text": [
            "(1, 34, 54, 34, 1, 28, 34, 1)\n"
          ]
        }
      ]
    },
    {
      "cell_type": "code",
      "source": [
        "Alumnos"
      ],
      "metadata": {
        "id": "sy3AmjODoW-1",
        "colab": {
          "base_uri": "https://localhost:8080/"
        },
        "outputId": "0bb67dc8-6110-4bb0-e30c-76f674a9679b"
      },
      "execution_count": 181,
      "outputs": [
        {
          "output_type": "execute_result",
          "data": {
            "text/plain": [
              "['Camila',\n",
              " 'Antonio',\n",
              " 'Camila',\n",
              " 'Cindy',\n",
              " 'Mike',\n",
              " 'Rafael',\n",
              " 'Antonio',\n",
              " 'Alejandra',\n",
              " 'Arturo',\n",
              " 'Fabian']"
            ]
          },
          "metadata": {},
          "execution_count": 181
        }
      ]
    },
    {
      "cell_type": "code",
      "source": [
        "#Esta es una lista\n",
        "Alumnos[0]=5\n",
        "print(Alumnos)\n"
      ],
      "metadata": {
        "id": "6YxrMBDAocPh",
        "colab": {
          "base_uri": "https://localhost:8080/"
        },
        "outputId": "d076cd8f-c73d-4e80-9150-6769d53cfdba"
      },
      "execution_count": 184,
      "outputs": [
        {
          "output_type": "stream",
          "name": "stdout",
          "text": [
            "[5, 'Antonio', 'Camila', 'Cindy', 'Mike', 'Rafael', 'Antonio', 'Alejandra', 'Arturo', 'Fabian']\n"
          ]
        }
      ]
    },
    {
      "cell_type": "code",
      "source": [
        "series1=(23,23) # imprime series\n",
        "print(series1)"
      ],
      "metadata": {
        "id": "LZrY5r0Ywrdb",
        "colab": {
          "base_uri": "https://localhost:8080/"
        },
        "outputId": "2e7933c5-fff9-42fc-9984-33819b8652e8"
      },
      "execution_count": 185,
      "outputs": [
        {
          "output_type": "stream",
          "name": "stdout",
          "text": [
            "(23, 23)\n"
          ]
        }
      ]
    },
    {
      "cell_type": "code",
      "source": [
        "type(series1)"
      ],
      "metadata": {
        "id": "wJ0p8elSouZ6",
        "colab": {
          "base_uri": "https://localhost:8080/"
        },
        "outputId": "7e38575b-1cfc-44a8-81dc-ad67cb15f1b8"
      },
      "execution_count": 186,
      "outputs": [
        {
          "output_type": "execute_result",
          "data": {
            "text/plain": [
              "tuple"
            ]
          },
          "metadata": {},
          "execution_count": 186
        }
      ]
    },
    {
      "cell_type": "code",
      "source": [
        "series1=series1*2 # se puede multiplicar esa dupla\n",
        "print(series1)"
      ],
      "metadata": {
        "id": "w2nUuUP1xA40",
        "colab": {
          "base_uri": "https://localhost:8080/"
        },
        "outputId": "c9f7fe14-92a5-4baa-bd48-c2d969b78508"
      },
      "execution_count": 187,
      "outputs": [
        {
          "output_type": "stream",
          "name": "stdout",
          "text": [
            "(23, 23, 23, 23)\n"
          ]
        }
      ]
    },
    {
      "cell_type": "code",
      "source": [
        "series2=(3,5)\n",
        "total=series1+series2 # se puede sumar una serie\n",
        "print(total)"
      ],
      "metadata": {
        "id": "GNph_1cKxRzg",
        "colab": {
          "base_uri": "https://localhost:8080/"
        },
        "outputId": "914df19a-e83d-4146-c295-b444c5f7ff20"
      },
      "execution_count": 188,
      "outputs": [
        {
          "output_type": "stream",
          "name": "stdout",
          "text": [
            "(23, 23, 23, 23, 3, 5)\n"
          ]
        }
      ]
    },
    {
      "cell_type": "markdown",
      "source": [
        "#Diccionarios\n",
        "Un diccionario en Python es una colección de elementos, donde cada uno tiene una llave key y un valor value. Los diccionarios se pueden crear con llaves {} separando con una coma cada par key: value.\n"
      ],
      "metadata": {
        "id": "RXkqPJvtxt4A"
      }
    },
    {
      "cell_type": "markdown",
      "source": [],
      "metadata": {
        "id": "QmtX1UpGpoRg"
      }
    },
    {
      "cell_type": "code",
      "source": [
        "#Vamos a realizar un diccionario por la cantidad de estudiantes por carreras\n",
        "\n",
        "estudiantes_carreras={\n",
        "                \"Enfermeria\": 1,\n",
        "                \"Ingenieria\":4,\n",
        "                \"Matemáticas\":2,\n",
        "                \"Ed.Fisica\":2\n",
        "}\n",
        "print(estudiantes_carreras)"
      ],
      "metadata": {
        "id": "_XJ0nl3CzjV1",
        "colab": {
          "base_uri": "https://localhost:8080/"
        },
        "outputId": "5750197c-da75-431d-f785-2f7a80593cd3"
      },
      "execution_count": 191,
      "outputs": [
        {
          "output_type": "stream",
          "name": "stdout",
          "text": [
            "{'Enfermeria': 1, 'Ingenieria': 4, 'Matemáticas': 2, 'Ed.Fisica': 2}\n"
          ]
        }
      ]
    },
    {
      "cell_type": "code",
      "source": [
        "#Agregando elementos\n",
        "estudiantes_carreras[\"Biologo\"]=4\n",
        "print(estudiantes_carreras)"
      ],
      "metadata": {
        "id": "jSMYNiOSAX0X",
        "colab": {
          "base_uri": "https://localhost:8080/"
        },
        "outputId": "32c9d344-4ee8-4eca-8634-d363dc55e90b"
      },
      "execution_count": null,
      "outputs": [
        {
          "output_type": "stream",
          "name": "stdout",
          "text": [
            "{'Enfermeria': 1, 'Ingenieria': 4, 'Matemáticas': 2, 'Ed.Fisica': 2, 'Biologo': 4}\n"
          ]
        }
      ]
    },
    {
      "cell_type": "code",
      "source": [
        "print(type(estudiantes_carreras))"
      ],
      "metadata": {
        "id": "_HQ1KG461RHX"
      },
      "execution_count": null,
      "outputs": []
    },
    {
      "cell_type": "code",
      "source": [
        "#Podemos ver las llaves del diciconario\n",
        "llaves=(estudiantes_carreras.keys())\n",
        "print(llaves)"
      ],
      "metadata": {
        "id": "nCutVfdY1W9A"
      },
      "execution_count": null,
      "outputs": []
    },
    {
      "cell_type": "code",
      "source": [
        "#para acceder a las llaves tenemos que convertirlas en lista\n",
        "accederllaves=list(estudiantes_carreras.keys())\n",
        "#type(accederllaves)\n",
        "accediendo=accederllaves[0]\n",
        "print(accediendo)"
      ],
      "metadata": {
        "id": "9Nw6Lv4j3ZOO"
      },
      "execution_count": null,
      "outputs": []
    },
    {
      "cell_type": "code",
      "source": [
        "#Para acceder a los elementos de un diccionario\n",
        "elemento=estudiantes_carreras[\"Ingenieria\"]\n",
        "print(elemento)"
      ],
      "metadata": {
        "id": "WlLZc9qX4zto"
      },
      "execution_count": null,
      "outputs": []
    },
    {
      "cell_type": "code",
      "source": [
        "#Para acceder a los elementos que no existen de un diccionario - genera error\n",
        "elemento=estudiantes_carreras[\"Arquitecto\"]\n",
        "print(elemento)"
      ],
      "metadata": {
        "id": "5OhRYs7o44XW"
      },
      "execution_count": null,
      "outputs": []
    },
    {
      "cell_type": "code",
      "source": [
        "#conocer los valores de un diccionario\n",
        "valores=estudiantes_carreras.values()\n",
        "print(valores)\n"
      ],
      "metadata": {
        "id": "Q1D19T3S5fXv"
      },
      "execution_count": null,
      "outputs": []
    },
    {
      "cell_type": "code",
      "source": [
        "#podemos si un elemento existe en el diccionario\n",
        "\"Ingenieria\" in estudiantes_carreras\n",
        "#\"Arquitectura\"in estudiantes_carreras"
      ],
      "metadata": {
        "id": "Ew2SoAu46I6C"
      },
      "execution_count": null,
      "outputs": []
    },
    {
      "cell_type": "code",
      "source": [
        "#Podemos utilizar la funcion pop para eliminar una clave del diccionario\n",
        "estudiantes_actuales=estudiantes_carreras.pop(\"Matemáticas\")\n",
        "print(\"estudiantes que esta en la posición {}\".format(estudiantes_actuales))\n",
        "print(estudiantes_carreras)"
      ],
      "metadata": {
        "id": "gR7xyZax6w0M"
      },
      "execution_count": null,
      "outputs": []
    },
    {
      "cell_type": "code",
      "source": [
        "#podemos agregar una lista en otra\n",
        "viajes=[\n",
        "        [\"Bogota\",\"San Andres\",\"Armenia\"],\n",
        "        [\"Bogota\",\"Cartagena\"],\n",
        "        [\"Bogota\",\"Valledupar\"]\n",
        "      ]\n",
        "print(viajes)"
      ],
      "metadata": {
        "id": "fcMIyxd-77GC"
      },
      "execution_count": null,
      "outputs": []
    },
    {
      "cell_type": "code",
      "source": [
        "type(viajes)"
      ],
      "metadata": {
        "id": "ohk6ZnGisyJ0"
      },
      "execution_count": null,
      "outputs": []
    },
    {
      "cell_type": "code",
      "source": [
        "print(viajes[1][1])"
      ],
      "metadata": {
        "id": "cgFYPWrH8ohM"
      },
      "execution_count": null,
      "outputs": []
    },
    {
      "cell_type": "code",
      "source": [
        "#Trabajando diccionarios con tuplas\n",
        "viajes_completos={\n",
        "                \"Bogota\":(\"Cartagena\",\"San Andres\",\"Valledupar\"),\n",
        "                \"San Andres\":(\"Bogota\",\"Valledupar\"),\n",
        "                \"Cartagena\":(\"Bogota\")\n",
        "}\n",
        "print(viajes_completos[\"Bogota\"])"
      ],
      "metadata": {
        "id": "Ad-z9WCG8_UC"
      },
      "execution_count": null,
      "outputs": []
    },
    {
      "cell_type": "code",
      "source": [
        "type(viajes_completos)"
      ],
      "metadata": {
        "id": "IkFheEq3tku5"
      },
      "execution_count": null,
      "outputs": []
    },
    {
      "cell_type": "code",
      "source": [
        "viajes_completos={\"Bogota\":(\"Tunja\",\"Duitama\")}\n",
        "print(viajes_completos)"
      ],
      "metadata": {
        "id": "4eDvtyuXt4Ao"
      },
      "execution_count": null,
      "outputs": []
    },
    {
      "cell_type": "code",
      "source": [
        "#listas con diccionarios\n",
        "\n",
        "listascondicc=[\n",
        "               {\"origen\":\"Bogotá\", \"destino\":\"Cartagena\"},\n",
        "               {\"origen\":\"San Andres\",\"destino\":\"Bogota\"}\n",
        "]\n",
        "listascondicc\n"
      ],
      "metadata": {
        "id": "g6otcZpf-TUN"
      },
      "execution_count": null,
      "outputs": []
    },
    {
      "cell_type": "code",
      "source": [
        "lista=(listascondicc[0])\n",
        "print(lista)\n"
      ],
      "metadata": {
        "id": "85laReUD_GIv"
      },
      "execution_count": null,
      "outputs": []
    },
    {
      "cell_type": "code",
      "source": [
        "elemento=lista['origen']\n",
        "print(elemento)"
      ],
      "metadata": {
        "id": "5fOx07Z2_0a8"
      },
      "execution_count": null,
      "outputs": []
    },
    {
      "cell_type": "code",
      "source": [
        "\n"
      ],
      "metadata": {
        "id": "A910tL4r8Bdz"
      },
      "execution_count": null,
      "outputs": []
    }
  ]
}