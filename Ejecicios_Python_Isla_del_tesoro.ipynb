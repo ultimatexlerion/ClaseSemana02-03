{
  "nbformat": 4,
  "nbformat_minor": 0,
  "metadata": {
    "colab": {
      "provenance": [],
      "include_colab_link": true
    },
    "kernelspec": {
      "name": "python3",
      "display_name": "Python 3"
    },
    "language_info": {
      "name": "python"
    }
  },
  "cells": [
    {
      "cell_type": "markdown",
      "metadata": {
        "id": "view-in-github",
        "colab_type": "text"
      },
      "source": [
        "<a href=\"https://colab.research.google.com/github/ultimatexlerion/ClaseSemana02-03/blob/main/Ejecicios_Python_Isla_del_tesoro.ipynb\" target=\"_parent\"><img src=\"https://colab.research.google.com/assets/colab-badge.svg\" alt=\"Open In Colab\"/></a>"
      ]
    },
    {
      "cell_type": "code",
      "execution_count": null,
      "metadata": {
        "id": "ywJo2OQ6zESE"
      },
      "outputs": [],
      "source": [
        "\n",
        "\n",
        "---\n"
      ]
    },
    {
      "cell_type": "markdown",
      "source": [
        "# La Aventura de la Isla del Tesoro\n",
        "\n",
        "¡Bienvenido a la isla del tesoro! En esta aventura, eres parte de una tripulación de piratas en busca de un legendario tesoro. A lo largo del camino, te enfrentarás a diversos desafíos que te ayudarán a mejorar tus habilidades con listas, tuplas y diccionarios en Python.\n",
        "\n",
        "Sigue las instrucciones en cada ejercicio y resuelve los desafíos para avanzar en tu aventura. ¡Buena suerte, pirata!"
      ],
      "metadata": {
        "id": "Uy9f8xFE-cPk"
      }
    },
    {
      "cell_type": "markdown",
      "source": [
        "## Ejercicio 1: Creando la Lista de la Tripulación\n",
        "\n",
        "Tu primer desafío es crear una lista con los nombres de todos los miembros de la tripulación. La tripulación tiene cinco miembros: \"Jack\", \"Anne\", \"Blackbeard\", \"Mary\", y \"Henry\".\n",
        "\n",
        "### Instrucciones:\n",
        "1. Crea una lista llamada `tripulacion` con los nombres de los cinco miembros.\n",
        "2. Imprime la lista para verificar que se ha creado correctamente.\n",
        "\n",
        "```python\n",
        "# Tu código aquí\n",
        "tripulacion = [\"Jack\", \"Anne\", \"Blackbeard\", \"Mary\", \"Henry\"]\n",
        "print(tripulacion)\n"
      ],
      "metadata": {
        "id": "GlqMk6oZzJ-C"
      }
    },
    {
      "cell_type": "code",
      "source": [
        "tripulacion = [\"Jack\", \"Anne\", \"Blackbeard\", \"Mary\", \"Henry\"]\n",
        "print(tripulacion)"
      ],
      "metadata": {
        "colab": {
          "base_uri": "https://localhost:8080/"
        },
        "id": "8pHtQ9H4AnkZ",
        "outputId": "4aacba7a-c889-4587-e26c-d706726ff8e4"
      },
      "execution_count": 1,
      "outputs": [
        {
          "output_type": "stream",
          "name": "stdout",
          "text": [
            "['Jack', 'Anne', 'Blackbeard', 'Mary', 'Henry']\n"
          ]
        }
      ]
    },
    {
      "cell_type": "markdown",
      "source": [
        "#### Ejercicio 2: Ordenando las Provisiones\n",
        "\n",
        "```markdown\n",
        "## Ejercicio 2: Ordenando las Provisiones\n",
        "\n",
        "Antes de partir, necesitas ordenar las provisiones del barco. Las provisiones se encuentran en una lista desordenada: `[\"agua\", \"pan\", \"frutas\", \"carne\", \"queso\"]`.\n",
        "\n",
        "### Instrucciones:\n",
        "1. Crea una lista llamada `provisiones` y ordena los elementos alfabéticamente.\n",
        "2. Imprime la lista ordenada.\n",
        "\n",
        "```python\n",
        "# Tu código aquí\n",
        "provisiones = [\"agua\", \"pan\", \"frutas\", \"carne\", \"queso\"]\n"
      ],
      "metadata": {
        "id": "Xp-g5Mn2zGMP"
      }
    },
    {
      "cell_type": "code",
      "source": [
        "provisiones = [\"agua\", \"pan\", \"frutas\", \"carne\", \"queso\", \"vino\", \"sal\", \"azucar\"]\n",
        "provisiones.sort() #sort organiza alfabeticamente.\n",
        "print(provisiones)"
      ],
      "metadata": {
        "colab": {
          "base_uri": "https://localhost:8080/"
        },
        "id": "z659bAfxAzrz",
        "outputId": "79cb7083-5cb3-4cc6-8cda-df646e82c3b4"
      },
      "execution_count": 4,
      "outputs": [
        {
          "output_type": "stream",
          "name": "stdout",
          "text": [
            "['agua', 'azucar', 'carne', 'frutas', 'pan', 'queso', 'sal', 'vino']\n"
          ]
        }
      ]
    },
    {
      "cell_type": "markdown",
      "source": [
        "#### Ejercicio 3: Actualizando el Mapa del Tesoro\n",
        "\n",
        "```markdown\n",
        "## Ejercicio 3: Actualizando el Mapa del Tesoro\n",
        "\n",
        "El mapa del tesoro está codificado en una tupla con tres coordenadas. Sin embargo, una de las coordenadas es incorrecta y necesitas actualizarla.\n",
        "\n",
        "### Instrucciones:\n",
        "1. Crea una tupla llamada `mapa_tesoro` con las coordenadas (12.34, 56.78, 0.0).\n",
        "2. Convierte la tupla a una lista para corregir la coordenada incorrecta (0.0 debe ser 90.12).\n",
        "3. Convierte la lista corregida de nuevo a una tupla y asígnala a `mapa_tesoro`.\n",
        "4. Imprime la tupla actualizada.\n",
        "\n",
        "```python\n",
        "\n",
        "mapa_tesoro = (12.34, 56.78, 0.0)\n"
      ],
      "metadata": {
        "id": "YiTzwU-rzr4q"
      }
    },
    {
      "cell_type": "code",
      "source": [
        "mapa_tesoro = (12.34, 56.78, 0.0) # tupla de coordenadas\n",
        "mapa_tesoro = list(mapa_tesoro) # conversion a lista de la tupla\n",
        "mapa_tesoro[2] = 90.12 # asignación del nuevo valor\n",
        "mapa_tesoro = tuple(mapa_tesoro) # conversion de la lista a tupla\n",
        "print(mapa_tesoro) #Impresion del resultado"
      ],
      "metadata": {
        "colab": {
          "base_uri": "https://localhost:8080/"
        },
        "id": "_ig3ccC4Bjzg",
        "outputId": "b658beac-d1ca-4d04-c8f9-d3ead7d9b99e"
      },
      "execution_count": 5,
      "outputs": [
        {
          "output_type": "stream",
          "name": "stdout",
          "text": [
            "(12.34, 56.78, 90.12)\n"
          ]
        }
      ]
    },
    {
      "cell_type": "markdown",
      "source": [
        "\n",
        "#### Ejercicio 4: Verificando el Inventario de Provisiones\n",
        "\n",
        "```markdown\n",
        "## Ejercicio 4: Verificando el Inventario de Provisiones\n",
        "\n",
        "El inventario de provisiones se encuentra en un diccionario donde las claves son los nombres de los artículos y los valores son las cantidades disponibles.\n",
        "\n",
        "### Instrucciones:\n",
        "1. Crea un diccionario llamado `inventario` con las siguientes provisiones: {\"agua\": 10, \"pan\": 5, \"frutas\": 20, \"carne\": 15, \"queso\": 7}.\n",
        "2. Imprime cuánta cantidad hay de cada provisión.\n",
        "3. Verifica si hay al menos 10 \"frutas\". Si es así, imprime \"Suficientes frutas\", de lo contrario, imprime \"Pocas frutas\".\n",
        "\n",
        "\n",
        "\n",
        "\n",
        "\n",
        "\n"
      ],
      "metadata": {
        "id": "jue9n99L0MBJ"
      }
    },
    {
      "cell_type": "code",
      "source": [
        "inventario = {\"agua\": 10, \"pan\": 5, \"frutas\": 20, \"carne\": 15, \"queso\": 7, \"vino\":54} #creación del diccionario con el valor de cada item\n",
        "print(inventario) # Impresion del resultado."
      ],
      "metadata": {
        "colab": {
          "base_uri": "https://localhost:8080/"
        },
        "id": "aAA76HCcBwGA",
        "outputId": "47b4d188-feab-445a-f392-9b336c27419d"
      },
      "execution_count": 22,
      "outputs": [
        {
          "output_type": "stream",
          "name": "stdout",
          "text": [
            "{'agua': 10, 'pan': 5, 'frutas': 20, 'carne': 15, 'queso': 7, 'vino': 54}\n"
          ]
        }
      ]
    },
    {
      "cell_type": "markdown",
      "source": [
        "\n",
        "#### Ejercicio 5: Moviendo la Tripulación\n",
        "\n",
        "```markdown\n",
        "## Ejercicio 5: Moviendo la Tripulación\n",
        "\n",
        "La tripulación necesita cambiar de posiciones en el barco para optimizar el equilibrio.\n",
        "\n",
        "### Instrucciones:\n",
        "1. Usa la lista `tripulacion` creada anteriormente.\n",
        "2. Intercambia las posiciones de \"Jack\" y \"Mary\".\n",
        "3. Imprime la lista actualizada.\n",
        "\n",
        "```python\n",
        "\n",
        "tripulacion = [\"Jack\", \"Anne\", \"Blackbeard\", \"Mary\", \"Henry\"]\n"
      ],
      "metadata": {
        "id": "Mo-bk8kb7C1_"
      }
    },
    {
      "cell_type": "code",
      "source": [
        "tripulacion = [\"Jack\", \"Anne\", \"Blackbeard\", \"Mary\", \"Henry\"] #Lista creada de la tripulación\n",
        "tripulacion[0], tripulacion[3] = tripulacion[3], tripulacion[0] # selecciona los items [] de las listas y los cambia = por la otra selección de items\n",
        "print(tripulacion) # Impresión del resultado"
      ],
      "metadata": {
        "colab": {
          "base_uri": "https://localhost:8080/"
        },
        "id": "xi50kBuyB9u-",
        "outputId": "55b2e134-2d2d-45aa-eba2-748f02b4fad0"
      },
      "execution_count": 23,
      "outputs": [
        {
          "output_type": "stream",
          "name": "stdout",
          "text": [
            "['Mary', 'Anne', 'Blackbeard', 'Jack', 'Henry']\n"
          ]
        }
      ]
    },
    {
      "cell_type": "markdown",
      "source": [
        "\n",
        "#### Ejercicio 6: Cambiando de Posición en la Isla\n",
        "\n",
        "```markdown\n",
        "## Ejercicio 6: Cambiando de Posición en la Isla\n",
        "\n",
        "Al llegar a la isla, descubres que hay pistas escondidas en varias ubicaciones. Necesitas cambiar de posición en la lista de pistas.\n",
        "\n",
        "### Instrucciones:\n",
        "1. Crea una lista `pistas` con los elementos [\"roca\", \"árbol\", \"caverna\", \"playa\", \"río\"].\n",
        "2. Mueve \"playa\" al comienzo de la lista.\n",
        "3. Imprime la lista actualizada.\n",
        "\n",
        "\n",
        "\n",
        "\n"
      ],
      "metadata": {
        "id": "KhE220nr7Rez"
      }
    },
    {
      "cell_type": "code",
      "source": [
        "pistas = [\"roca\", \"árbol\", \"caverna\", \"playa\", \"río\"] #Creación de la lista con los items a iterar\n",
        "pistas.remove(\"playa\") #Remover cuando encuentre \"playa\"\n",
        "pistas.insert(0, \"playa\")#Insertar nuevo item en la posicion 0 de la lista.\n",
        "print(pistas)#Imprimir el resultado\n"
      ],
      "metadata": {
        "colab": {
          "base_uri": "https://localhost:8080/"
        },
        "id": "6wuwLQSYCHb7",
        "outputId": "9c9ab06f-4e78-49ea-c7e5-4df5b9bf28dc"
      },
      "execution_count": 8,
      "outputs": [
        {
          "output_type": "stream",
          "name": "stdout",
          "text": [
            "['playa', 'roca', 'árbol', 'caverna', 'río']\n"
          ]
        }
      ]
    },
    {
      "cell_type": "markdown",
      "source": [
        "\n",
        "#### Ejercicio 7: Reemplazo de Provisiones Perdidas\n",
        "\n",
        "```markdown\n",
        "## Ejercicio 7: Reemplazo de Provisiones Perdidas\n",
        "\n",
        "Durante una tormenta, algunas provisiones se han perdido y deben ser reemplazadas.\n",
        "\n",
        "### Instrucciones:\n",
        "1. Usa el diccionario `inventario` de provisiones.\n",
        "2. Reemplaza el valor de \"pan\" con 10, ya que se encontró más pan.\n",
        "3. Imprime el diccionario actualizado.\n",
        "\n",
        "\n"
      ],
      "metadata": {
        "id": "vRI8uwXM8DZM"
      }
    },
    {
      "cell_type": "code",
      "source": [
        "inventario = {\"agua\": 10, \"pan\": 5, \"frutas\": 20, \"carne\": 15, \"queso\": 7} #Seleccionar diccionario inventario\n",
        "inventario[\"pan\"] = 10 #Insertar el nuevo valor de catidad de pan\n",
        "print(inventario)#Imprimir Resultado"
      ],
      "metadata": {
        "colab": {
          "base_uri": "https://localhost:8080/"
        },
        "id": "i2khTlR4CRPI",
        "outputId": "0c10278e-f837-491a-9874-115602da3a1a"
      },
      "execution_count": 24,
      "outputs": [
        {
          "output_type": "stream",
          "name": "stdout",
          "text": [
            "{'agua': 10, 'pan': 10, 'frutas': 20, 'carne': 15, 'queso': 7}\n"
          ]
        }
      ]
    },
    {
      "cell_type": "markdown",
      "source": [
        "\n",
        "#### Ejercicio 8: Contando las Provisiones\n",
        "\n",
        "```markdown\n",
        "## Ejercicio 8: Contando las Provisiones\n",
        "\n",
        "Después de reorganizar el barco, necesitas contar cuántos tipos diferentes de provisiones hay.\n",
        "\n",
        "### Instrucciones:\n",
        "1. Usa el diccionario `inventario`.\n",
        "2. Usa un bucle `for` para contar el número total de tipos de provisiones.\n",
        "3. Imprime el total.\n",
        "\n",
        "\n"
      ],
      "metadata": {
        "id": "M-HMxWgA8Jqo"
      }
    },
    {
      "cell_type": "code",
      "source": [
        "inventario = {\"agua\": 10, \"pan\": 5, \"frutas\": 20, \"carne\": 15, \"queso\": 7} #Seleccionar Diccionario con sus respectivos valores\n",
        "total = 0 #resultado total en 0\n",
        "sumar = int(inventario[\"agua\"]) + int(inventario[\"pan\"]) + int(inventario[\"frutas\"]) + int(inventario[\"carne\"]) + int(inventario[\"queso\"])# Sumar los valore de los items.\n",
        "print(sumar) # imprimir"
      ],
      "metadata": {
        "colab": {
          "base_uri": "https://localhost:8080/"
        },
        "id": "vyFGkfyKC_Pd",
        "outputId": "c69b1c6b-9eb6-4fcc-fe9a-3b95cb4154dd"
      },
      "execution_count": 44,
      "outputs": [
        {
          "output_type": "stream",
          "name": "stdout",
          "text": [
            "57\n"
          ]
        }
      ]
    },
    {
      "cell_type": "markdown",
      "source": [
        "\n",
        "#### Ejercicio 9: Navegando con el Capitán\n",
        "\n",
        "```markdown\n",
        "## Ejercicio 9: Navegando con el Capitán\n",
        "\n",
        "El capitán quiere saber cuántas veces se menciona cada miembro de la tripulación en el cuaderno de bitácora.\n",
        "\n",
        "### Instrucciones:\n",
        "1. Crea una lista `bitacora` que contenga los nombres de los miembros de la tripulación en diferentes ordenes.\n",
        "2. Usa un diccionario para contar cuántas veces aparece cada nombre.\n",
        "3. Imprime el conteo de cada miembro.\n",
        "\n",
        "\n"
      ],
      "metadata": {
        "id": "oFDQywo48RaG"
      }
    },
    {
      "cell_type": "code",
      "source": [
        "bitacora = [\"Jack\", \"Anne\", \"Blackbeard\", \"Mary\", \"Henry\", \"Jack\"] #Acceder a la bitacora\n",
        "conteo = {} #Contador\n",
        "for i in bitacora: #Itinerar en la lista bitacora\n",
        "    if i in conteo: #Si al itinerar encuentra en la lista conteo\n",
        "        conteo[i] += 1 #Sumar 1\n",
        "    else: #Si no encuentra en la lista conteo\n",
        "        conteo[i] = 1 #Sumar 1\n",
        "print(conteo) #Imprimir"
      ],
      "metadata": {
        "colab": {
          "base_uri": "https://localhost:8080/"
        },
        "id": "UXgvc2LiClZT",
        "outputId": "8893234d-3c7f-4341-8ba3-08991462f815"
      },
      "execution_count": 46,
      "outputs": [
        {
          "output_type": "stream",
          "name": "stdout",
          "text": [
            "{'Jack': 2, 'Anne': 1, 'Blackbeard': 1, 'Mary': 1, 'Henry': 1}\n"
          ]
        }
      ]
    },
    {
      "cell_type": "markdown",
      "source": [
        "\n",
        "#### Ejercicio 10: Encontrando el Objeto Mágico\n",
        "\n",
        "```markdown\n",
        "## Ejercicio 10: Encontrando el Objeto Mágico\n",
        "\n",
        "Hay un objeto mágico escondido en una lista, y necesitas encontrarlo.\n",
        "\n",
        "### Instrucciones:\n",
        "1. Crea una lista llamada `objetos` que contenga varios elementos, incluyendo \"objeto mágico\".\n",
        "2. Usa un bucle `while` para buscar el \"objeto mágico\".\n",
        "3. Imprime la posición del \"objeto mágico\" cuando lo encuentres.\n",
        "\n"
      ],
      "metadata": {
        "id": "yf7690cb8b_d"
      }
    },
    {
      "cell_type": "code",
      "source": [
        "objetos = [\"lanza\", \"escudo\", \"arpón\", \"soga\", \"espada\", \"cuchillo\", \"mapa\", \"palas\", \"objetoMagico\"] #Objetos creados y el objeto magico\n",
        "i = 0  #contador\n",
        "while i < len(objetos): #itinerar en la lista\n",
        "    if objetos[i] == \"objetoMagico\": #Si encuentra el objeto magico\n",
        "        print(i) #Imprimir\n",
        "        break #Romper\n",
        "    i += 1 #Sumar 1"
      ],
      "metadata": {
        "colab": {
          "base_uri": "https://localhost:8080/"
        },
        "id": "qmaO60FCDbqz",
        "outputId": "797324f0-9617-4de2-d631-b4b3c8979340"
      },
      "execution_count": 47,
      "outputs": [
        {
          "output_type": "stream",
          "name": "stdout",
          "text": [
            "8\n"
          ]
        }
      ]
    },
    {
      "cell_type": "markdown",
      "source": [
        "\n",
        "#### Ejercicio 11: Rastreo de Coordenadas del Tesoro\n",
        "\n",
        "```markdown\n",
        "## Ejercicio 11: Rastreo de Coordenadas del Tesoro\n",
        "\n",
        "Necesitas rastrear las coordenadas del tesoro en una lista de tuplas de coordenadas.\n",
        "\n",
        "### Instrucciones:\n",
        "1. Crea una lista `coordenadas` que contenga varias tuplas de coordenadas (x, y).\n",
        "2. Usa un bucle `for` para verificar si alguna coordenada es igual a (10, 10).\n",
        "3. Imprime \"Tesoro encontrado\" cuando encuentres la coordenada correcta.\n",
        "\n",
        "\n"
      ],
      "metadata": {
        "id": "mUar7-CS8e8r"
      }
    },
    {
      "cell_type": "code",
      "source": [
        "coordenadas = [(51, 25), (34, 54), (265, 342), (4325, 432545), (342535, 425677), (4324254, 6546782),(6545464, 1342420)] #Lista con todas las cordenadas de ejeplo creadas\n",
        "for i in coordenadas: #Itinerar en la lista\n",
        "    if i == (342535, 425677): #Si encuentra la coordenada\n",
        "        print(\"Tesoro encontrado\") #Imprimir\n",
        "        break  #Romper"
      ],
      "metadata": {
        "colab": {
          "base_uri": "https://localhost:8080/"
        },
        "id": "F4_gKDw2D7eR",
        "outputId": "77433a4d-7eec-4d12-db89-3a16bf3a8775"
      },
      "execution_count": 50,
      "outputs": [
        {
          "output_type": "stream",
          "name": "stdout",
          "text": [
            "Tesoro encontrado\n"
          ]
        }
      ]
    },
    {
      "cell_type": "markdown",
      "source": [
        "\n",
        "#### Ejercicio 12: Decodificando el Mensaje Final\n",
        "\n",
        "```markdown\n",
        "## Ejercicio 12: Decodificando el Mensaje Final\n",
        "\n",
        "El último paso para encontrar el tesoro es decodificar un mensaje final que se encuentra en un diccionario.\n",
        "\n",
        "### Instrucciones:\n",
        "1. Crea un diccionario `mensaje_codificado` con letras como claves y números como valores.\n",
        "2. Usa un bucle `for` para crear una lista con las letras del mensaje en orden basado en sus números.\n",
        "3. Imprime el mensaje decodificado.\n",
        "\n",
        "\n"
      ],
      "metadata": {
        "id": "BLGQaWhx8jwe"
      }
    },
    {
      "cell_type": "code",
      "source": [
        "mensaje_codificado = {\"M\": 1, \"I\": 2, \"K\": 3, \"E\": 4, \"!\": 5} #Diccionario con los valores de cada letra\n",
        "mensaje_decodificado = [] #Lista vacia\n",
        "for i in mensaje_codificado: #Itinerar en el diccionario\n",
        "    mensaje_decodificado.append(i)  #Agregar a la lista vacia\n",
        "print(mensaje_decodificado) #Imprimir"
      ],
      "metadata": {
        "colab": {
          "base_uri": "https://localhost:8080/"
        },
        "id": "IZUVS4qSEK7y",
        "outputId": "26b49fd5-4e25-4ddb-aa58-fb007fa517b4"
      },
      "execution_count": 21,
      "outputs": [
        {
          "output_type": "stream",
          "name": "stdout",
          "text": [
            "['M', 'I', 'K', 'E', '!']\n"
          ]
        }
      ]
    },
    {
      "cell_type": "markdown",
      "source": [],
      "metadata": {
        "id": "iyor3OmS8p9L"
      }
    },
    {
      "cell_type": "code",
      "source": [],
      "metadata": {
        "id": "ttAb_EoU7CL3"
      },
      "execution_count": null,
      "outputs": []
    }
  ]
}